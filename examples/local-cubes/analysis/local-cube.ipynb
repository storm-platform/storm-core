{
 "cells": [
  {
   "cell_type": "markdown",
   "id": "center-central",
   "metadata": {},
   "source": [
    "# gdalcubes - Processing Earth Observation using GDAL Image Collection\n",
    "\n",
    "Managing the files that will be made available during a research study is important for many projects. For example, some researchers cannot publish the data for ethical reasons, while others have problems with the large volume of data used.\n",
    "\n",
    "To facilitate the reproducibility of these experiments, bdcrrm-api has specific functionalities for file management. These functionalities consider both the production and the reproduction of an experiment.\n",
    "\n",
    "Therefore, this notebook is used as an example to present the file management capabilities of bdcrrm-api. To this end, this notebook uses the R package gdalcubes to manipulate a local image collection available on the processing machine.\n",
    "\n",
    "> **Note**: The operations presented here are taken directly from the basic usage example provided by the official gdalcubes documentation. We thank the authors of the excellent package. Thank you."
   ]
  },
  {
   "cell_type": "code",
   "execution_count": null,
   "id": "subject-morrison",
   "metadata": {},
   "outputs": [],
   "source": [
    "set.seed(777)\n",
    "\n",
    "library(magrittr)\n",
    "library(gdalcubes)\n",
    "library(RColorBrewer)"
   ]
  },
  {
   "cell_type": "markdown",
   "id": "broke-peoples",
   "metadata": {},
   "source": [
    "## General definitions"
   ]
  },
  {
   "cell_type": "code",
   "execution_count": null,
   "id": "adjusted-season",
   "metadata": {},
   "outputs": [],
   "source": [
    "source(\"analysis/.pipeline.R\")\n",
    "\n",
    "gdalcubes_options(threads = .pipeline_definitions$threads)"
   ]
  },
  {
   "cell_type": "markdown",
   "id": "insured-credits",
   "metadata": {},
   "source": [
    "## Processing data cubes\n",
    "\n",
    "This section presents basic gdalcubes operations, which manipulate a set of scenes available on the processing machine.\n"
   ]
  },
  {
   "cell_type": "markdown",
   "id": "scheduled-albania",
   "metadata": {},
   "source": [
    "**1. Creating an image collection**"
   ]
  },
  {
   "cell_type": "code",
   "execution_count": null,
   "id": "blank-publicity",
   "metadata": {},
   "outputs": [],
   "source": [
    "files <- list.files(\"data/raw_data/L8_Amazon/\", recursive = TRUE,\n",
    "                    full.names = TRUE, pattern = \".tif\")\n",
    "\n",
    "lc8_collection <- create_image_collection(files, format = \"L8_SR\", \n",
    "                                          out_file = \"data/derived_data/L8.db\")"
   ]
  },
  {
   "cell_type": "markdown",
   "id": "brown-screen",
   "metadata": {},
   "source": [
    "**2. Creating data cubes view**"
   ]
  },
  {
   "cell_type": "code",
   "execution_count": null,
   "id": "stylish-statement",
   "metadata": {},
   "outputs": [],
   "source": [
    "datacube_view <- cube_view(\n",
    "  extent = lc8_collection,\n",
    "  dt = \"P1Y\",\n",
    "  dx = 1000,\n",
    "  dy = 1000,\n",
    "  srs = \"EPSG:3857\",\n",
    "  aggregation = \"median\",\n",
    "  resampling = \"bilinear\"\n",
    ")"
   ]
  },
  {
   "cell_type": "markdown",
   "id": "transparent-butler",
   "metadata": {},
   "source": [
    "**3. Operations**"
   ]
  },
  {
   "cell_type": "markdown",
   "id": "fantastic-capacity",
   "metadata": {},
   "source": [
    "**3.1 Temporal Aggregation**"
   ]
  },
  {
   "cell_type": "code",
   "execution_count": null,
   "id": "latter-individual",
   "metadata": {},
   "outputs": [],
   "source": [
    "x = raster_cube(lc8_collection, datacube_view) %>%\n",
    "      select_bands(c(\"B02\", \"B03\", \"B04\")) %>%\n",
    "      reduce_time(c('median(B02)', 'median(B03)', 'median(B04)'))\n",
    "\n",
    "plot(x, rgb=3:1, zlim=c(0, 1200))"
   ]
  },
  {
   "cell_type": "markdown",
   "id": "meaning-score",
   "metadata": {},
   "source": [
    "**3.2 Band Math**"
   ]
  },
  {
   "cell_type": "code",
   "execution_count": null,
   "id": "union-deviation",
   "metadata": {},
   "outputs": [],
   "source": [
    "raster_cube(lc8_collection, datacube_view) %>%\n",
    "    select_bands(c(\"B04\", \"B05\")) %>%\n",
    "    apply_pixel(c(\"(B05-B04) / (B05+B04)\"), names=\"NDVI\") %>%\n",
    "    plot(zlim=c(0,1),  nbreaks=10, col=brewer.pal(9, \"YlGn\"), key.pos = 1)"
   ]
  }
 ],
 "metadata": {
  "kernelspec": {
   "display_name": "R-Geo",
   "language": "R",
   "name": "rgeo"
  },
  "language_info": {
   "codemirror_mode": "r",
   "file_extension": ".r",
   "mimetype": "text/x-r-source",
   "name": "R",
   "pygments_lexer": "r",
   "version": "4.1.1"
  }
 },
 "nbformat": 4,
 "nbformat_minor": 5
}
